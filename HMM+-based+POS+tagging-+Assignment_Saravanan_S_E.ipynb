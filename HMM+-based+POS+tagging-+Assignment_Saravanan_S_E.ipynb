{
 "cells": [
  {
   "cell_type": "markdown",
   "metadata": {},
   "source": [
    "## POS tagging using modified Viterbi"
   ]
  },
  {
   "cell_type": "markdown",
   "metadata": {},
   "source": [
    "### Data Preparation"
   ]
  },
  {
   "cell_type": "code",
   "execution_count": 1,
   "metadata": {},
   "outputs": [],
   "source": [
    "#Importing required libraries\n",
    "\n",
    "#importing nltk library\n",
    "import nltk\n",
    "\n",
    "#importing regex module\n",
    "import re\n",
    "\n",
    "#importing numpy module\n",
    "import numpy as np\n",
    "\n",
    "#importing pandas module\n",
    "import pandas as pd\n",
    "\n",
    "#importing matplotlib for plotting graphs\n",
    "import matplotlib.pyplot as plt\n",
    "\n",
    "#importing seaborn module for better visulization\n",
    "import seaborn as sns\n",
    "\n",
    "#importing random module for generating random numbers\n",
    "import random\n",
    "\n",
    "#importing sckit learn module for prediction\n",
    "from sklearn.model_selection import train_test_split\n",
    "\n",
    "#importing nltk tokenize module for extracting tokens from the string of characters\n",
    "from nltk.tokenize import word_tokenize\n"
   ]
  },
  {
   "cell_type": "code",
   "execution_count": 2,
   "metadata": {},
   "outputs": [
    {
     "name": "stderr",
     "output_type": "stream",
     "text": [
      "[nltk_data] Downloading package universal_tagset to\n",
      "[nltk_data]     /Users/ssarava2/nltk_data...\n",
      "[nltk_data]   Package universal_tagset is already up-to-date!\n"
     ]
    },
    {
     "data": {
      "text/plain": [
       "True"
      ]
     },
     "execution_count": 2,
     "metadata": {},
     "output_type": "execute_result"
    }
   ],
   "source": [
    "#Now we need to download universal tagset and this required for further processing\n",
    "nltk.download('universal_tagset')"
   ]
  },
  {
   "cell_type": "code",
   "execution_count": 3,
   "metadata": {},
   "outputs": [],
   "source": [
    "# reading the Treebank tagged sentences\n",
    "nltk_data = list(nltk.corpus.treebank.tagged_sents(tagset='universal'))"
   ]
  },
  {
   "cell_type": "code",
   "execution_count": 4,
   "metadata": {},
   "outputs": [
    {
     "data": {
      "text/plain": [
       "[[('Pierre', 'NOUN'),\n",
       "  ('Vinken', 'NOUN'),\n",
       "  (',', '.'),\n",
       "  ('61', 'NUM'),\n",
       "  ('years', 'NOUN'),\n",
       "  ('old', 'ADJ'),\n",
       "  (',', '.'),\n",
       "  ('will', 'VERB'),\n",
       "  ('join', 'VERB'),\n",
       "  ('the', 'DET'),\n",
       "  ('board', 'NOUN'),\n",
       "  ('as', 'ADP'),\n",
       "  ('a', 'DET'),\n",
       "  ('nonexecutive', 'ADJ'),\n",
       "  ('director', 'NOUN'),\n",
       "  ('Nov.', 'NOUN'),\n",
       "  ('29', 'NUM'),\n",
       "  ('.', '.')],\n",
       " [('Mr.', 'NOUN'),\n",
       "  ('Vinken', 'NOUN'),\n",
       "  ('is', 'VERB'),\n",
       "  ('chairman', 'NOUN'),\n",
       "  ('of', 'ADP'),\n",
       "  ('Elsevier', 'NOUN'),\n",
       "  ('N.V.', 'NOUN'),\n",
       "  (',', '.'),\n",
       "  ('the', 'DET'),\n",
       "  ('Dutch', 'NOUN'),\n",
       "  ('publishing', 'VERB'),\n",
       "  ('group', 'NOUN'),\n",
       "  ('.', '.')],\n",
       " [('Rudolph', 'NOUN'),\n",
       "  ('Agnew', 'NOUN'),\n",
       "  (',', '.'),\n",
       "  ('55', 'NUM'),\n",
       "  ('years', 'NOUN'),\n",
       "  ('old', 'ADJ'),\n",
       "  ('and', 'CONJ'),\n",
       "  ('former', 'ADJ'),\n",
       "  ('chairman', 'NOUN'),\n",
       "  ('of', 'ADP'),\n",
       "  ('Consolidated', 'NOUN'),\n",
       "  ('Gold', 'NOUN'),\n",
       "  ('Fields', 'NOUN'),\n",
       "  ('PLC', 'NOUN'),\n",
       "  (',', '.'),\n",
       "  ('was', 'VERB'),\n",
       "  ('named', 'VERB'),\n",
       "  ('*-1', 'X'),\n",
       "  ('a', 'DET'),\n",
       "  ('nonexecutive', 'ADJ'),\n",
       "  ('director', 'NOUN'),\n",
       "  ('of', 'ADP'),\n",
       "  ('this', 'DET'),\n",
       "  ('British', 'ADJ'),\n",
       "  ('industrial', 'ADJ'),\n",
       "  ('conglomerate', 'NOUN'),\n",
       "  ('.', '.')],\n",
       " [('A', 'DET'),\n",
       "  ('form', 'NOUN'),\n",
       "  ('of', 'ADP'),\n",
       "  ('asbestos', 'NOUN'),\n",
       "  ('once', 'ADV'),\n",
       "  ('used', 'VERB'),\n",
       "  ('*', 'X'),\n",
       "  ('*', 'X'),\n",
       "  ('to', 'PRT'),\n",
       "  ('make', 'VERB'),\n",
       "  ('Kent', 'NOUN'),\n",
       "  ('cigarette', 'NOUN'),\n",
       "  ('filters', 'NOUN'),\n",
       "  ('has', 'VERB'),\n",
       "  ('caused', 'VERB'),\n",
       "  ('a', 'DET'),\n",
       "  ('high', 'ADJ'),\n",
       "  ('percentage', 'NOUN'),\n",
       "  ('of', 'ADP'),\n",
       "  ('cancer', 'NOUN'),\n",
       "  ('deaths', 'NOUN'),\n",
       "  ('among', 'ADP'),\n",
       "  ('a', 'DET'),\n",
       "  ('group', 'NOUN'),\n",
       "  ('of', 'ADP'),\n",
       "  ('workers', 'NOUN'),\n",
       "  ('exposed', 'VERB'),\n",
       "  ('*', 'X'),\n",
       "  ('to', 'PRT'),\n",
       "  ('it', 'PRON'),\n",
       "  ('more', 'ADV'),\n",
       "  ('than', 'ADP'),\n",
       "  ('30', 'NUM'),\n",
       "  ('years', 'NOUN'),\n",
       "  ('ago', 'ADP'),\n",
       "  (',', '.'),\n",
       "  ('researchers', 'NOUN'),\n",
       "  ('reported', 'VERB'),\n",
       "  ('0', 'X'),\n",
       "  ('*T*-1', 'X'),\n",
       "  ('.', '.')]]"
      ]
     },
     "execution_count": 4,
     "metadata": {},
     "output_type": "execute_result"
    }
   ],
   "source": [
    "#lets look at the data \n",
    "nltk_data[:4]"
   ]
  },
  {
   "cell_type": "markdown",
   "metadata": {},
   "source": [
    "#### Now lets split the data into train and test set"
   ]
  },
  {
   "cell_type": "code",
   "execution_count": 5,
   "metadata": {},
   "outputs": [],
   "source": [
    "#Now let's train 95% of data and test with 5% of data\n",
    "random.seed(1234)\n",
    "nltk_data_train, nltk_data_test = train_test_split(nltk_data, train_size=0.95, test_size=0.05)"
   ]
  },
  {
   "cell_type": "code",
   "execution_count": 6,
   "metadata": {},
   "outputs": [
    {
     "name": "stdout",
     "output_type": "stream",
     "text": [
      "The length of the training dataset is 3718 \n",
      "The length of the test dataset is 196 \n"
     ]
    }
   ],
   "source": [
    "#Now lets see the length of the train and test data\n",
    "print(\"The length of the training dataset is {} \\nThe length of the test dataset is {} \".format(len(nltk_data_train),len(nltk_data_test)))\n"
   ]
  },
  {
   "cell_type": "code",
   "execution_count": 7,
   "metadata": {},
   "outputs": [
    {
     "data": {
      "text/plain": [
       "[[('Still', 'ADV'),\n",
       "  (',', '.'),\n",
       "  ('scientists', 'NOUN'),\n",
       "  ('breathed', 'VERB'),\n",
       "  ('a', 'DET'),\n",
       "  ('collective', 'ADJ'),\n",
       "  ('sigh', 'NOUN'),\n",
       "  ('of', 'ADP'),\n",
       "  ('relief', 'NOUN'),\n",
       "  ('about', 'ADP'),\n",
       "  ('the', 'DET'),\n",
       "  ('finding', 'NOUN'),\n",
       "  (',', '.'),\n",
       "  ('because', 'ADP'),\n",
       "  ('it', 'PRON'),\n",
       "  ('demonstrates', 'VERB'),\n",
       "  ('how', 'ADV'),\n",
       "  ('*', 'X'),\n",
       "  ('to', 'PRT'),\n",
       "  ('overcome', 'VERB'),\n",
       "  ('the', 'DET'),\n",
       "  ('``', '.'),\n",
       "  ('flux', 'NOUN'),\n",
       "  ('pinning', 'NOUN'),\n",
       "  (\"''\", '.'),\n",
       "  ('problem', 'NOUN'),\n",
       "  ('that', 'ADP'),\n",
       "  ('*T*-1', 'X'),\n",
       "  ('earlier', 'ADV'),\n",
       "  ('this', 'DET'),\n",
       "  ('year', 'NOUN'),\n",
       "  ('was', 'VERB'),\n",
       "  ('widely', 'ADV'),\n",
       "  ('publicized', 'VERB'),\n",
       "  ('as', 'ADP'),\n",
       "  ('*', 'X'),\n",
       "  ('undercutting', 'VERB'),\n",
       "  ('new', 'ADJ'),\n",
       "  ('superconductors', 'NOUN'),\n",
       "  (\"'\", 'PRT'),\n",
       "  ('potential', 'NOUN'),\n",
       "  ('*T*-2', 'X'),\n",
       "  ('.', '.')],\n",
       " [('At', 'ADP'),\n",
       "  ('least', 'ADJ'),\n",
       "  (',', '.'),\n",
       "  ('that', 'DET'),\n",
       "  (\"'s\", 'VERB'),\n",
       "  ('the', 'DET'),\n",
       "  ('way', 'NOUN'),\n",
       "  ('0', 'X'),\n",
       "  ('it', 'PRON'),\n",
       "  ('was', 'VERB'),\n",
       "  ('reported', 'VERB'),\n",
       "  ('*-32', 'X'),\n",
       "  ('*T*-1', 'X'),\n",
       "  ('.', '.')],\n",
       " [('Dealers', 'NOUN'),\n",
       "  ('said', 'VERB'),\n",
       "  ('0', 'X'),\n",
       "  ('that', 'DET'),\n",
       "  ('interpretation', 'NOUN'),\n",
       "  ('sparked', 'VERB'),\n",
       "  ('expectations', 'NOUN'),\n",
       "  ('of', 'ADP'),\n",
       "  ('an', 'DET'),\n",
       "  ('imminent', 'ADJ'),\n",
       "  ('bid', 'NOUN'),\n",
       "  ('by', 'ADP'),\n",
       "  ('Ford', 'NOUN'),\n",
       "  ('.', '.')],\n",
       " [('Stock', 'NOUN'),\n",
       "  ('futures', 'NOUN'),\n",
       "  ('trading', 'NOUN'),\n",
       "  ('has', 'VERB'),\n",
       "  ('minted', 'VERB'),\n",
       "  ('dozens', 'NOUN'),\n",
       "  ('of', 'ADP'),\n",
       "  ('millionaires', 'NOUN'),\n",
       "  ('in', 'ADP'),\n",
       "  ('their', 'PRON'),\n",
       "  ('20s', 'NUM'),\n",
       "  ('and', 'CONJ'),\n",
       "  ('30s', 'NUM'),\n",
       "  ('.', '.')]]"
      ]
     },
     "execution_count": 7,
     "metadata": {},
     "output_type": "execute_result"
    }
   ],
   "source": [
    "#Lets display few items from the train dataset\n",
    "nltk_data_train[:4]"
   ]
  },
  {
   "cell_type": "code",
   "execution_count": 8,
   "metadata": {},
   "outputs": [
    {
     "name": "stdout",
     "output_type": "stream",
     "text": [
      "Train Tagged Words -  95645\n",
      "Test Tagged Words -  5031\n"
     ]
    }
   ],
   "source": [
    "#common function to compute the length of the train and test dataset\n",
    "def tagged_words(data):\n",
    "    ret_data = [tp for ds in data for tp in ds]\n",
    "    return ret_data\n",
    "\n",
    "nltk_train_tag_words = tagged_words(nltk_data_train)\n",
    "\n",
    "print(\"Train Tagged Words - \", len(nltk_train_tag_words))\n",
    "\n",
    "nltk_test_tag_words = tagged_words(nltk_data_test)\n",
    "\n",
    "print(\"Test Tagged Words - \", len(nltk_test_tag_words))"
   ]
  },
  {
   "cell_type": "code",
   "execution_count": 9,
   "metadata": {},
   "outputs": [
    {
     "data": {
      "text/plain": [
       "[('Still', 'ADV'),\n",
       " (',', '.'),\n",
       " ('scientists', 'NOUN'),\n",
       " ('breathed', 'VERB'),\n",
       " ('a', 'DET'),\n",
       " ('collective', 'ADJ'),\n",
       " ('sigh', 'NOUN'),\n",
       " ('of', 'ADP'),\n",
       " ('relief', 'NOUN'),\n",
       " ('about', 'ADP')]"
      ]
     },
     "execution_count": 9,
     "metadata": {},
     "output_type": "execute_result"
    }
   ],
   "source": [
    "nltk_train_tag_words[:10]"
   ]
  },
  {
   "cell_type": "code",
   "execution_count": 10,
   "metadata": {},
   "outputs": [],
   "source": [
    "#lets tokenize the words from train and test dataset\n",
    "\n",
    "def tokenize_tagged_words(data):\n",
    "    ret_data = [tag[0] for tag in nltk_train_tag_words]\n",
    "    return ret_data\n",
    "\n",
    "# #lets tokenize the words\n",
    "\n",
    "nltk_tagged_tokenize_train = [tag[0] for tag in nltk_train_tag_words]\n",
    "\n",
    "nltk_tagged_tokenize_test = [tag[0] for tag in nltk_test_tag_words]\n"
   ]
  },
  {
   "cell_type": "code",
   "execution_count": 11,
   "metadata": {},
   "outputs": [
    {
     "data": {
      "text/plain": [
       "['Still', ',', 'scientists', 'breathed', 'a', 'collective', 'sigh', 'of']"
      ]
     },
     "execution_count": 11,
     "metadata": {},
     "output_type": "execute_result"
    }
   ],
   "source": [
    "nltk_tagged_tokenize_train[:8]"
   ]
  },
  {
   "cell_type": "code",
   "execution_count": 12,
   "metadata": {},
   "outputs": [],
   "source": [
    "#Now lets get the POS tags for train and test datas\n",
    "nltk_train_tag_words_pos_token = [tag[1] for tag in nltk_train_tag_words]\n",
    "\n",
    "nltk_test_tag_words_pos_token = [tag[1] for tag in nltk_test_tag_words]\n"
   ]
  },
  {
   "cell_type": "code",
   "execution_count": 13,
   "metadata": {},
   "outputs": [
    {
     "data": {
      "text/plain": [
       "['ADV',\n",
       " '.',\n",
       " 'NOUN',\n",
       " 'VERB',\n",
       " 'DET',\n",
       " 'ADJ',\n",
       " 'NOUN',\n",
       " 'ADP',\n",
       " 'NOUN',\n",
       " 'ADP',\n",
       " 'DET',\n",
       " 'NOUN']"
      ]
     },
     "execution_count": 13,
     "metadata": {},
     "output_type": "execute_result"
    }
   ],
   "source": [
    "#print the POS tags on train data\n",
    "nltk_train_tag_words_pos_token[:12]"
   ]
  },
  {
   "cell_type": "markdown",
   "metadata": {},
   "source": [
    "#### Build the vocabulary for train data"
   ]
  },
  {
   "cell_type": "code",
   "execution_count": 14,
   "metadata": {},
   "outputs": [],
   "source": [
    "nltk_train_tag_vocal_set = set(nltk_tagged_tokenize_train)"
   ]
  },
  {
   "cell_type": "code",
   "execution_count": 15,
   "metadata": {},
   "outputs": [
    {
     "name": "stdout",
     "output_type": "stream",
     "text": [
      "12071\n"
     ]
    }
   ],
   "source": [
    "#get the count of vocabulary set\n",
    "nltk_train_tag_vocal_set_len = len(nltk_train_tag_vocal_set)\n",
    "print(nltk_train_tag_vocal_set_len)"
   ]
  },
  {
   "cell_type": "markdown",
   "metadata": {},
   "source": [
    "#### Build the vocabulary for pos tags on train data"
   ]
  },
  {
   "cell_type": "code",
   "execution_count": 16,
   "metadata": {},
   "outputs": [],
   "source": [
    "nltk_train_pos_set = set(nltk_train_tag_words_pos_token)"
   ]
  },
  {
   "cell_type": "code",
   "execution_count": 17,
   "metadata": {},
   "outputs": [
    {
     "name": "stdout",
     "output_type": "stream",
     "text": [
      "{'ADP', 'DET', 'CONJ', 'PRON', 'X', 'ADV', 'ADJ', 'NUM', 'VERB', 'PRT', 'NOUN', '.'}\n"
     ]
    }
   ],
   "source": [
    "print(nltk_train_pos_set)"
   ]
  },
  {
   "cell_type": "code",
   "execution_count": 18,
   "metadata": {},
   "outputs": [
    {
     "name": "stdout",
     "output_type": "stream",
     "text": [
      "12\n"
     ]
    }
   ],
   "source": [
    "nltk_train_pos_set_len = len(nltk_train_pos_set)\n",
    "print(nltk_train_pos_set_len)"
   ]
  },
  {
   "cell_type": "code",
   "execution_count": 19,
   "metadata": {},
   "outputs": [
    {
     "name": "stdout",
     "output_type": "stream",
     "text": [
      "Vocabulary count is 12071 and Tag count is 12\n"
     ]
    }
   ],
   "source": [
    "print(\"Vocabulary count is {} and Tag count is {}\".format(nltk_train_tag_vocal_set_len,nltk_train_pos_set_len))"
   ]
  },
  {
   "cell_type": "markdown",
   "metadata": {},
   "source": [
    "### Emission and Transition probabilities"
   ]
  },
  {
   "cell_type": "code",
   "execution_count": 20,
   "metadata": {},
   "outputs": [],
   "source": [
    "# Functions for computing emission and transition probabilites\n",
    "\n",
    "#Emission probability calculation\n",
    "\n",
    "def word_given_tag(word, tag, train_bag = nltk_train_tag_words):\n",
    "    tag_list = [pair for pair in train_bag if pair[1]==tag]\n",
    "    count_tag = len(tag_list)\n",
    "    w_given_tag_list = [pair[0] for pair in tag_list if pair[0]==word]\n",
    "    count_w_given_tag = len(w_given_tag_list)\n",
    "    \n",
    "    return (count_w_given_tag, count_tag)\n",
    "\n",
    "#Transition probability calculation\n",
    "\n",
    "def t2_given_t1(t2, t1, train_bag = nltk_train_tag_words):\n",
    "    tags = [pair[1] for pair in train_bag]\n",
    "    count_t1 = len([t for t in tags if t==t1])\n",
    "    count_t2_t1 = 0\n",
    "    for index in range(len(tags)-1):\n",
    "        if tags[index]==t1 and tags[index+1] == t2:\n",
    "            count_t2_t1 += 1\n",
    "    return (count_t2_t1, count_t1)\n"
   ]
  },
  {
   "cell_type": "code",
   "execution_count": 21,
   "metadata": {},
   "outputs": [],
   "source": [
    "#Build matrix by setting up the matrix size\n",
    "nltk_tag_matrix = np.zeros((nltk_train_pos_set_len, nltk_train_pos_set_len), dtype='float32')\n",
    "\n",
    "#Calculte the transition matrix\n",
    "for i, t1 in enumerate(list(nltk_train_pos_set)):\n",
    "    for j, t2 in enumerate(list(nltk_train_pos_set)): \n",
    "        nltk_tag_matrix[i, j] = t2_given_t1(t2, t1)[0]/t2_given_t1(t2, t1)[1]\n"
   ]
  },
  {
   "cell_type": "code",
   "execution_count": 22,
   "metadata": {},
   "outputs": [
    {
     "data": {
      "text/plain": [
       "array([[1.72836874e-02, 3.24335873e-01, 8.53515405e-04, 6.83879256e-02,\n",
       "        3.42473052e-02, 1.39763150e-02, 1.06476046e-01, 6.27333820e-02,\n",
       "        8.53515416e-03, 1.38696260e-03, 3.22095394e-01, 3.96884680e-02],\n",
       "       [9.29278322e-03, 5.67221828e-03, 4.82741976e-04, 3.74125037e-03,\n",
       "        4.53777462e-02, 1.26719773e-02, 2.06372201e-01, 2.25681867e-02,\n",
       "        3.92227843e-02, 2.41370988e-04, 6.36857331e-01, 1.74993966e-02],\n",
       "       [5.34386635e-02, 1.19888477e-01, 4.64684010e-04, 5.90148717e-02,\n",
       "        8.82899668e-03, 5.43680303e-02, 1.13847584e-01, 3.90334576e-02,\n",
       "        1.54739782e-01, 5.11152437e-03, 3.55018586e-01, 3.62453535e-02],\n",
       "       [2.19568573e-02, 9.63020045e-03, 5.39291231e-03, 8.08936823e-03,\n",
       "        9.32203382e-02, 3.23574729e-02, 7.39599392e-02, 7.31895212e-03,\n",
       "        4.85362083e-01, 1.27118640e-02, 2.09938362e-01, 4.00616340e-02],\n",
       "       [1.45956293e-01, 5.51922172e-02, 1.02089643e-02, 5.58302775e-02,\n",
       "        7.36959651e-02, 2.58414429e-02, 1.69085972e-02, 2.87127122e-03,\n",
       "        2.03860268e-01, 1.84080392e-01, 6.25299066e-02, 1.63024411e-01],\n",
       "       [1.18073881e-01, 7.12401047e-02, 7.25593651e-03, 1.45118730e-02,\n",
       "        2.40765177e-02, 8.08047503e-02, 1.29947230e-01, 3.10026389e-02,\n",
       "        3.39709759e-01, 1.41820582e-02, 3.19920853e-02, 1.37203172e-01],\n",
       "       [7.69483149e-02, 4.92206728e-03, 1.70631669e-02, 4.92206716e-04,\n",
       "        2.10008211e-02, 4.92206728e-03, 6.57916293e-02, 2.10008211e-02,\n",
       "        1.23051684e-02, 1.06644789e-02, 6.99425757e-01, 6.54634982e-02],\n",
       "       [3.46975103e-02, 2.96559907e-03, 1.36417560e-02, 1.77935942e-03,\n",
       "        2.07591936e-01, 2.96559907e-03, 3.32147107e-02, 1.83867142e-01,\n",
       "        1.80901550e-02, 2.69869510e-02, 3.55278760e-01, 1.18920520e-01],\n",
       "       [9.09797251e-02, 1.33167580e-01, 5.28319459e-03, 3.54284830e-02,\n",
       "        2.18631029e-01, 8.28995407e-02, 6.55737668e-02, 2.27643531e-02,\n",
       "        1.69295311e-01, 3.20099443e-02, 1.09470904e-01, 3.44961546e-02],\n",
       "       [2.09698565e-02, 1.01572737e-01, 2.29357788e-03, 1.76933166e-02,\n",
       "        1.34338140e-02, 9.50196572e-03, 8.45347345e-02, 5.70117943e-02,\n",
       "        4.00393188e-01, 1.96592393e-03, 2.48034075e-01, 4.25950214e-02],\n",
       "       [1.77008897e-01, 1.30158961e-02, 4.26935963e-02, 4.81260009e-03,\n",
       "        2.88756024e-02, 1.69534776e-02, 1.22867143e-02, 9.69811901e-03,\n",
       "        1.47221819e-01, 4.35686149e-02, 2.64291972e-01, 2.39572704e-01],\n",
       "       [9.11053121e-02, 1.73846573e-01, 5.78289405e-02, 6.57433197e-02,\n",
       "        2.70707794e-02, 5.27025796e-02, 4.47882004e-02, 8.10324699e-02,\n",
       "        8.90367851e-02, 2.42827600e-03, 2.21063048e-01, 9.32637826e-02]],\n",
       "      dtype=float32)"
      ]
     },
     "execution_count": 22,
     "metadata": {},
     "output_type": "execute_result"
    }
   ],
   "source": [
    "# View the transition matrix\n",
    "nltk_tag_matrix"
   ]
  },
  {
   "cell_type": "code",
   "execution_count": 23,
   "metadata": {},
   "outputs": [],
   "source": [
    "# Lets convert the matrix to dataframe for convienence\n",
    "nltk_tag_matrix_df = pd.DataFrame(nltk_tag_matrix, columns = list(nltk_train_pos_set), index=list(nltk_train_pos_set))\n"
   ]
  },
  {
   "cell_type": "code",
   "execution_count": 24,
   "metadata": {},
   "outputs": [
    {
     "data": {
      "text/html": [
       "<div>\n",
       "<style scoped>\n",
       "    .dataframe tbody tr th:only-of-type {\n",
       "        vertical-align: middle;\n",
       "    }\n",
       "\n",
       "    .dataframe tbody tr th {\n",
       "        vertical-align: top;\n",
       "    }\n",
       "\n",
       "    .dataframe thead th {\n",
       "        text-align: right;\n",
       "    }\n",
       "</style>\n",
       "<table border=\"1\" class=\"dataframe\">\n",
       "  <thead>\n",
       "    <tr style=\"text-align: right;\">\n",
       "      <th></th>\n",
       "      <th>ADP</th>\n",
       "      <th>DET</th>\n",
       "      <th>CONJ</th>\n",
       "      <th>PRON</th>\n",
       "      <th>X</th>\n",
       "      <th>ADV</th>\n",
       "      <th>ADJ</th>\n",
       "      <th>NUM</th>\n",
       "      <th>VERB</th>\n",
       "      <th>PRT</th>\n",
       "      <th>NOUN</th>\n",
       "      <th>.</th>\n",
       "    </tr>\n",
       "  </thead>\n",
       "  <tbody>\n",
       "    <tr>\n",
       "      <th>ADP</th>\n",
       "      <td>0.017284</td>\n",
       "      <td>0.324336</td>\n",
       "      <td>0.000854</td>\n",
       "      <td>0.068388</td>\n",
       "      <td>0.034247</td>\n",
       "      <td>0.013976</td>\n",
       "      <td>0.106476</td>\n",
       "      <td>0.062733</td>\n",
       "      <td>0.008535</td>\n",
       "      <td>0.001387</td>\n",
       "      <td>0.322095</td>\n",
       "      <td>0.039688</td>\n",
       "    </tr>\n",
       "    <tr>\n",
       "      <th>DET</th>\n",
       "      <td>0.009293</td>\n",
       "      <td>0.005672</td>\n",
       "      <td>0.000483</td>\n",
       "      <td>0.003741</td>\n",
       "      <td>0.045378</td>\n",
       "      <td>0.012672</td>\n",
       "      <td>0.206372</td>\n",
       "      <td>0.022568</td>\n",
       "      <td>0.039223</td>\n",
       "      <td>0.000241</td>\n",
       "      <td>0.636857</td>\n",
       "      <td>0.017499</td>\n",
       "    </tr>\n",
       "    <tr>\n",
       "      <th>CONJ</th>\n",
       "      <td>0.053439</td>\n",
       "      <td>0.119888</td>\n",
       "      <td>0.000465</td>\n",
       "      <td>0.059015</td>\n",
       "      <td>0.008829</td>\n",
       "      <td>0.054368</td>\n",
       "      <td>0.113848</td>\n",
       "      <td>0.039033</td>\n",
       "      <td>0.154740</td>\n",
       "      <td>0.005112</td>\n",
       "      <td>0.355019</td>\n",
       "      <td>0.036245</td>\n",
       "    </tr>\n",
       "    <tr>\n",
       "      <th>PRON</th>\n",
       "      <td>0.021957</td>\n",
       "      <td>0.009630</td>\n",
       "      <td>0.005393</td>\n",
       "      <td>0.008089</td>\n",
       "      <td>0.093220</td>\n",
       "      <td>0.032357</td>\n",
       "      <td>0.073960</td>\n",
       "      <td>0.007319</td>\n",
       "      <td>0.485362</td>\n",
       "      <td>0.012712</td>\n",
       "      <td>0.209938</td>\n",
       "      <td>0.040062</td>\n",
       "    </tr>\n",
       "    <tr>\n",
       "      <th>X</th>\n",
       "      <td>0.145956</td>\n",
       "      <td>0.055192</td>\n",
       "      <td>0.010209</td>\n",
       "      <td>0.055830</td>\n",
       "      <td>0.073696</td>\n",
       "      <td>0.025841</td>\n",
       "      <td>0.016909</td>\n",
       "      <td>0.002871</td>\n",
       "      <td>0.203860</td>\n",
       "      <td>0.184080</td>\n",
       "      <td>0.062530</td>\n",
       "      <td>0.163024</td>\n",
       "    </tr>\n",
       "    <tr>\n",
       "      <th>ADV</th>\n",
       "      <td>0.118074</td>\n",
       "      <td>0.071240</td>\n",
       "      <td>0.007256</td>\n",
       "      <td>0.014512</td>\n",
       "      <td>0.024077</td>\n",
       "      <td>0.080805</td>\n",
       "      <td>0.129947</td>\n",
       "      <td>0.031003</td>\n",
       "      <td>0.339710</td>\n",
       "      <td>0.014182</td>\n",
       "      <td>0.031992</td>\n",
       "      <td>0.137203</td>\n",
       "    </tr>\n",
       "    <tr>\n",
       "      <th>ADJ</th>\n",
       "      <td>0.076948</td>\n",
       "      <td>0.004922</td>\n",
       "      <td>0.017063</td>\n",
       "      <td>0.000492</td>\n",
       "      <td>0.021001</td>\n",
       "      <td>0.004922</td>\n",
       "      <td>0.065792</td>\n",
       "      <td>0.021001</td>\n",
       "      <td>0.012305</td>\n",
       "      <td>0.010664</td>\n",
       "      <td>0.699426</td>\n",
       "      <td>0.065463</td>\n",
       "    </tr>\n",
       "    <tr>\n",
       "      <th>NUM</th>\n",
       "      <td>0.034698</td>\n",
       "      <td>0.002966</td>\n",
       "      <td>0.013642</td>\n",
       "      <td>0.001779</td>\n",
       "      <td>0.207592</td>\n",
       "      <td>0.002966</td>\n",
       "      <td>0.033215</td>\n",
       "      <td>0.183867</td>\n",
       "      <td>0.018090</td>\n",
       "      <td>0.026987</td>\n",
       "      <td>0.355279</td>\n",
       "      <td>0.118921</td>\n",
       "    </tr>\n",
       "    <tr>\n",
       "      <th>VERB</th>\n",
       "      <td>0.090980</td>\n",
       "      <td>0.133168</td>\n",
       "      <td>0.005283</td>\n",
       "      <td>0.035428</td>\n",
       "      <td>0.218631</td>\n",
       "      <td>0.082900</td>\n",
       "      <td>0.065574</td>\n",
       "      <td>0.022764</td>\n",
       "      <td>0.169295</td>\n",
       "      <td>0.032010</td>\n",
       "      <td>0.109471</td>\n",
       "      <td>0.034496</td>\n",
       "    </tr>\n",
       "    <tr>\n",
       "      <th>PRT</th>\n",
       "      <td>0.020970</td>\n",
       "      <td>0.101573</td>\n",
       "      <td>0.002294</td>\n",
       "      <td>0.017693</td>\n",
       "      <td>0.013434</td>\n",
       "      <td>0.009502</td>\n",
       "      <td>0.084535</td>\n",
       "      <td>0.057012</td>\n",
       "      <td>0.400393</td>\n",
       "      <td>0.001966</td>\n",
       "      <td>0.248034</td>\n",
       "      <td>0.042595</td>\n",
       "    </tr>\n",
       "    <tr>\n",
       "      <th>NOUN</th>\n",
       "      <td>0.177009</td>\n",
       "      <td>0.013016</td>\n",
       "      <td>0.042694</td>\n",
       "      <td>0.004813</td>\n",
       "      <td>0.028876</td>\n",
       "      <td>0.016953</td>\n",
       "      <td>0.012287</td>\n",
       "      <td>0.009698</td>\n",
       "      <td>0.147222</td>\n",
       "      <td>0.043569</td>\n",
       "      <td>0.264292</td>\n",
       "      <td>0.239573</td>\n",
       "    </tr>\n",
       "    <tr>\n",
       "      <th>.</th>\n",
       "      <td>0.091105</td>\n",
       "      <td>0.173847</td>\n",
       "      <td>0.057829</td>\n",
       "      <td>0.065743</td>\n",
       "      <td>0.027071</td>\n",
       "      <td>0.052703</td>\n",
       "      <td>0.044788</td>\n",
       "      <td>0.081032</td>\n",
       "      <td>0.089037</td>\n",
       "      <td>0.002428</td>\n",
       "      <td>0.221063</td>\n",
       "      <td>0.093264</td>\n",
       "    </tr>\n",
       "  </tbody>\n",
       "</table>\n",
       "</div>"
      ],
      "text/plain": [
       "           ADP       DET      CONJ      PRON         X       ADV       ADJ  \\\n",
       "ADP   0.017284  0.324336  0.000854  0.068388  0.034247  0.013976  0.106476   \n",
       "DET   0.009293  0.005672  0.000483  0.003741  0.045378  0.012672  0.206372   \n",
       "CONJ  0.053439  0.119888  0.000465  0.059015  0.008829  0.054368  0.113848   \n",
       "PRON  0.021957  0.009630  0.005393  0.008089  0.093220  0.032357  0.073960   \n",
       "X     0.145956  0.055192  0.010209  0.055830  0.073696  0.025841  0.016909   \n",
       "ADV   0.118074  0.071240  0.007256  0.014512  0.024077  0.080805  0.129947   \n",
       "ADJ   0.076948  0.004922  0.017063  0.000492  0.021001  0.004922  0.065792   \n",
       "NUM   0.034698  0.002966  0.013642  0.001779  0.207592  0.002966  0.033215   \n",
       "VERB  0.090980  0.133168  0.005283  0.035428  0.218631  0.082900  0.065574   \n",
       "PRT   0.020970  0.101573  0.002294  0.017693  0.013434  0.009502  0.084535   \n",
       "NOUN  0.177009  0.013016  0.042694  0.004813  0.028876  0.016953  0.012287   \n",
       ".     0.091105  0.173847  0.057829  0.065743  0.027071  0.052703  0.044788   \n",
       "\n",
       "           NUM      VERB       PRT      NOUN         .  \n",
       "ADP   0.062733  0.008535  0.001387  0.322095  0.039688  \n",
       "DET   0.022568  0.039223  0.000241  0.636857  0.017499  \n",
       "CONJ  0.039033  0.154740  0.005112  0.355019  0.036245  \n",
       "PRON  0.007319  0.485362  0.012712  0.209938  0.040062  \n",
       "X     0.002871  0.203860  0.184080  0.062530  0.163024  \n",
       "ADV   0.031003  0.339710  0.014182  0.031992  0.137203  \n",
       "ADJ   0.021001  0.012305  0.010664  0.699426  0.065463  \n",
       "NUM   0.183867  0.018090  0.026987  0.355279  0.118921  \n",
       "VERB  0.022764  0.169295  0.032010  0.109471  0.034496  \n",
       "PRT   0.057012  0.400393  0.001966  0.248034  0.042595  \n",
       "NOUN  0.009698  0.147222  0.043569  0.264292  0.239573  \n",
       ".     0.081032  0.089037  0.002428  0.221063  0.093264  "
      ]
     },
     "execution_count": 24,
     "metadata": {},
     "output_type": "execute_result"
    }
   ],
   "source": [
    "#Print the matrix after converting to pandas dataframe\n",
    "nltk_tag_matrix_df"
   ]
  },
  {
   "cell_type": "code",
   "execution_count": null,
   "metadata": {},
   "outputs": [],
   "source": []
  },
  {
   "cell_type": "markdown",
   "metadata": {},
   "source": [
    "### EDA"
   ]
  },
  {
   "cell_type": "code",
   "execution_count": 25,
   "metadata": {},
   "outputs": [
    {
     "data": {
      "image/png": "[encoded data removed]",
      "text/plain": [
       "<Figure size 1008x576 with 2 Axes>"
      ]
     },
     "metadata": {
      "needs_background": "light"
     },
     "output_type": "display_data"
    }
   ],
   "source": [
    "#Lets visualize the matrix visually using heatmap\n",
    "plt.figure(figsize=(14, 8))\n",
    "sns.heatmap(nltk_tag_matrix_df, annot = True)\n",
    "plt.show()"
   ]
  },
  {
   "cell_type": "code",
   "execution_count": 26,
   "metadata": {},
   "outputs": [
    {
     "data": {
      "image/png": "[encoded data removed]",
      "text/plain": [
       "<Figure size 1008x576 with 2 Axes>"
      ]
     },
     "metadata": {
      "needs_background": "light"
     },
     "output_type": "display_data"
    }
   ],
   "source": [
    "#Lets visualize the tags that frequently occured visually using heatmap\n",
    "nltk_tag_matrix_df_freq = nltk_tag_matrix_df[nltk_tag_matrix_df>0.5]\n",
    "plt.figure(figsize=(14, 8))\n",
    "sns.heatmap(nltk_tag_matrix_df_freq, annot = True)\n",
    "plt.show()"
   ]
  },
  {
   "cell_type": "markdown",
   "metadata": {},
   "source": [
    "### Build the vanilla Viterbi based POS tagger"
   ]
  },
  {
   "cell_type": "code",
   "execution_count": 27,
   "metadata": {},
   "outputs": [],
   "source": [
    "# Viterbi Heuristic\n",
    "def Vanilla_Viterbi(words, train_bag = nltk_train_tag_words):\n",
    "    state = []\n",
    "    T = list(set([pair[1] for pair in train_bag]))\n",
    "    \n",
    "    for key, word in enumerate(words):\n",
    "        #initialise list of probability column for a given observation\n",
    "        p = [] \n",
    "        for tag in T:\n",
    "            if key == 0:\n",
    "                transition_p = nltk_tag_matrix_df.loc['.', tag]\n",
    "            else:\n",
    "                transition_p = nltk_tag_matrix_df.loc[state[-1], tag]\n",
    "                \n",
    "            # compute emission and state probabilities\n",
    "            emission_p = word_given_tag(words[key], tag)[0]/word_given_tag(words[key], tag)[1]\n",
    "            state_probability = emission_p * transition_p    \n",
    "            p.append(state_probability)\n",
    "            \n",
    "        pmax = max(p)\n",
    "        # getting state for which probability is maximum\n",
    "        state_max = T[p.index(pmax)] \n",
    "        state.append(state_max)\n",
    "    return list(zip(words, state))"
   ]
  },
  {
   "cell_type": "code",
   "execution_count": 28,
   "metadata": {},
   "outputs": [],
   "source": [
    "random.seed(1234)\n",
    "\n",
    "# get the list of tagged words\n",
    "nltk_data_test_list = [tup for sent in nltk_data_test for tup in sent]\n",
    "\n",
    "# get the list of untagged words\n",
    "nltk_data_test_tag_word_list = [tup[0] for sent in nltk_data_test for tup in sent]"
   ]
  },
  {
   "cell_type": "code",
   "execution_count": 29,
   "metadata": {},
   "outputs": [],
   "source": [
    "# Lets tag the test sentences using the Vanilla_Viterbi function \n",
    "\n",
    "nltk_tagged_seq = Vanilla_Viterbi(nltk_data_test_tag_word_list)"
   ]
  },
  {
   "cell_type": "code",
   "execution_count": 30,
   "metadata": {},
   "outputs": [
    {
     "name": "stdout",
     "output_type": "stream",
     "text": [
      "The accuracy of the Vanilla Viterbi Algorithm:  0.9063804412641622\n"
     ]
    }
   ],
   "source": [
    "# Let's check and get the accuracy of the vanilla viterbi algorithm to a variable\n",
    "\n",
    "nltk_check = [i for i, j in zip(nltk_tagged_seq, nltk_data_test_list) if i == j]\n",
    "\n",
    "nltk_vanilla_viterbi_accuracy = len(nltk_check)/len(nltk_tagged_seq)\n",
    "\n",
    "print(\"The accuracy of the Vanilla Viterbi Algorithm: \", nltk_vanilla_viterbi_accuracy)"
   ]
  },
  {
   "cell_type": "code",
   "execution_count": 31,
   "metadata": {},
   "outputs": [],
   "source": [
    "# Let's have a look at the incorrect tagged cases\n",
    "\n",
    "nltk_wrong_tagged_cases = [[nltk_data_test_list[i-1],j] for i, j in enumerate(zip(nltk_tagged_seq, nltk_data_test_list)) if j[0]!=j[1]]\n",
    "\n"
   ]
  },
  {
   "cell_type": "code",
   "execution_count": 32,
   "metadata": {},
   "outputs": [
    {
     "name": "stdout",
     "output_type": "stream",
     "text": [
      "Total Unknown words : 1933 \n"
     ]
    }
   ],
   "source": [
    "# Unknown words \n",
    "\n",
    "nltk_test_vocal_set = set([t for t in nltk_test_tag_words])\n",
    "\n",
    "nltk_unknown_words = list(nltk_test_vocal_set - nltk_train_tag_vocal_set)\n",
    "\n",
    "print(\"Total Unknown words : {} \".format(len(nltk_unknown_words)))"
   ]
  },
  {
   "cell_type": "markdown",
   "metadata": {},
   "source": [
    "### Solve the problem of unknown words"
   ]
  },
  {
   "cell_type": "markdown",
   "metadata": {},
   "source": [
    "The vanilla Viterbi algorithm we had written had resulted in ~87% accuracy. The approx. 13% loss of accuracy was majorly due to the fact that when the algorithm encountered an unknown word.\n",
    "\n",
    "Lets minimize the loss by modifying the vanilla viterbi\n",
    "If the word is unknown then we can cionsider only transition_p otherwise consider both emission and transition probability"
   ]
  },
  {
   "cell_type": "code",
   "execution_count": 33,
   "metadata": {},
   "outputs": [],
   "source": [
    "# Modified Viterbi Heuristic\n",
    "def Vanilla_Viterbi_for_Unknown_Words(words, train_bag = nltk_train_tag_words):\n",
    "    state = []\n",
    "    T = list(set([pair[1] for pair in train_bag]))\n",
    "    \n",
    "    for key, word in enumerate(words):\n",
    "        #initialise list of probability column for a given observation\n",
    "        p = [] \n",
    "        for tag in T:\n",
    "            if key == 0:\n",
    "                transition_p = nltk_tag_matrix_df.loc['.', tag]\n",
    "            else:\n",
    "                transition_p = nltk_tag_matrix_df.loc[state[-1], tag]\n",
    "                \n",
    "            # compute emission and state probabilities\n",
    "            emission_p = word_given_tag(words[key], tag)[0]/word_given_tag(words[key], tag)[1]\n",
    "            \n",
    "            # modification to the original vanilla viterbi algorithm \n",
    "            # to consider unknown words\n",
    "            if word not in nltk_train_tag_vocal_set:\n",
    "                state_probability = transition_p\n",
    "            else:\n",
    "                state_probability = emission_p * transition_p\n",
    "                \n",
    "            p.append(state_probability)\n",
    "            \n",
    "        pmax = max(p)\n",
    "        # getting state for which probability is maximum\n",
    "        state_max = T[p.index(pmax)] \n",
    "        state.append(state_max)\n",
    "    return list(zip(words, state))"
   ]
  },
  {
   "cell_type": "code",
   "execution_count": 34,
   "metadata": {},
   "outputs": [
    {
     "name": "stdout",
     "output_type": "stream",
     "text": [
      "The accuracy of the Vanilla Viterbi Algorithm after modification for unknown words:  0.9385807990459153\n"
     ]
    }
   ],
   "source": [
    "# tagging the test sentences\n",
    "nltk_unknown_word_tag_sequence = Vanilla_Viterbi_for_Unknown_Words(nltk_data_test_tag_word_list)\n",
    "\n",
    "# accuracy\n",
    "nltk_unknown_word_chk = [i for i, j in zip(nltk_unknown_word_tag_sequence, nltk_data_test_list) if i == j]\n",
    "\n",
    "nltk_optimized_viterbi_accuracy = len(nltk_unknown_word_chk)/len(nltk_unknown_word_tag_sequence)\n",
    "\n",
    "print(\"The accuracy of the Vanilla Viterbi Algorithm after modification for unknown words: \", nltk_optimized_viterbi_accuracy)"
   ]
  },
  {
   "cell_type": "markdown",
   "metadata": {},
   "source": [
    "###  Lexicon and Rule Based Models for POS Tagging\n",
    "\n",
    "#### Unigram tagger"
   ]
  },
  {
   "cell_type": "code",
   "execution_count": 35,
   "metadata": {},
   "outputs": [
    {
     "name": "stdout",
     "output_type": "stream",
     "text": [
      "Unigram Tagger accuracy:  0.9043927648578811\n"
     ]
    }
   ],
   "source": [
    "nltk_ugram_tag = nltk.UnigramTagger(nltk_data_train)\n",
    "nltk_ugram_tagger_acc = nltk_ugram_tag.evaluate(nltk_data_test)\n",
    "print(\"Unigram Tagger accuracy: \", nltk_ugram_tagger_acc)"
   ]
  },
  {
   "cell_type": "code",
   "execution_count": 36,
   "metadata": {},
   "outputs": [],
   "source": [
    "# patterns for tagging using a rule based regex tagger -\n",
    "\n",
    "patterns = [\n",
    "    (r'^[aA-zZ].*[0-9]+','NOUN'),  # Alpha Numeric\n",
    "    (r'.*ness$', 'NOUN'),\n",
    "    (r'.*\\'s$', 'NOUN'),              # possessive nouns\n",
    "    (r'.*s$', 'NOUN'),                # plural nouns\n",
    "    (r'.*', 'NOUN'),    \n",
    "    (r'.*ly$', 'ADV'),\n",
    "    (r'^(0|([*|-|$].*))','X'), # Any special character combination\n",
    "    (r'.*ould$', 'X'), # modals\n",
    "    (r'(The|the|A|a|An|an)$', 'DET'),\n",
    "    (r'^([0-9]|[aA-zZ])+\\-[aA-zZ]*$','ADJ'),\n",
    "    (r'.*able$', 'ADJ'), # adjective like 100-megabytes 237-Seats\n",
    "    (r'[aA-zZ]+(ed|ing|es)$', 'VERB'), # Any word ending with 'ing' or 'ed' is a verb\n",
    "    (r'[0-9].?[,\\/]?[0-9]*','NUM')# Numbers \n",
    "    ]"
   ]
  },
  {
   "cell_type": "code",
   "execution_count": 37,
   "metadata": {},
   "outputs": [
    {
     "name": "stdout",
     "output_type": "stream",
     "text": [
      "The accuracy of Unigram Tagger by using RegexpTagger:  0.9381832637646591\n"
     ]
    }
   ],
   "source": [
    "# Now lets do rule based regexptagger\n",
    "\n",
    "nltk_rule_based_tagger = nltk.RegexpTagger(patterns)\n",
    "\n",
    "# unigram tagger backed up by the rule-based tagger\n",
    "nltk_rule_based_ugram_tagger = nltk.UnigramTagger(nltk_data_train, backoff = nltk_rule_based_tagger)\n",
    "\n",
    "nltk_acc_rule_based_ugram_tagger = nltk_rule_based_ugram_tagger.evaluate(nltk_data_test)\n",
    "\n",
    "print(\"The accuracy of Unigram Tagger by using RegexpTagger: \", nltk_acc_rule_based_ugram_tagger)"
   ]
  },
  {
   "cell_type": "code",
   "execution_count": 38,
   "metadata": {},
   "outputs": [
    {
     "name": "stdout",
     "output_type": "stream",
     "text": [
      "The accuracy of Bigram Tagger by using nltk_rule_based_ugram_tagger:  0.9433512224209899\n"
     ]
    }
   ],
   "source": [
    "#Lets do the Bigram tagger\n",
    "\n",
    "nltk_bigram_tagger = nltk.BigramTagger(nltk_data_train, backoff = nltk_rule_based_ugram_tagger)\n",
    "nltk_bigram_tagger.evaluate(nltk_data_test)\n",
    "nltk_acc_bigram_tagger = nltk_bigram_tagger.evaluate(nltk_data_test)\n",
    "print(\"The accuracy of Bigram Tagger by using nltk_rule_based_ugram_tagger: \", nltk_acc_bigram_tagger)"
   ]
  },
  {
   "cell_type": "code",
   "execution_count": 39,
   "metadata": {},
   "outputs": [
    {
     "name": "stdout",
     "output_type": "stream",
     "text": [
      "The accuracy of the Trigram Tagger by using nltk_bigram_tagger:  0.9423573842178493\n"
     ]
    }
   ],
   "source": [
    "# Lets do the trigram tagger\n",
    "\n",
    "nltk_trigram_tagger = nltk.TrigramTagger(nltk_data_train, backoff = nltk_bigram_tagger)\n",
    "nltk_trigram_tagger.evaluate(nltk_data_test)\n",
    "nltk_acc_trigram_tagger = nltk_trigram_tagger.evaluate(nltk_data_test)\n",
    "print(\"The accuracy of the Trigram Tagger by using nltk_bigram_tagger: \", nltk_acc_trigram_tagger)"
   ]
  },
  {
   "cell_type": "markdown",
   "metadata": {},
   "source": [
    "### Method 2"
   ]
  },
  {
   "cell_type": "markdown",
   "metadata": {},
   "source": [
    "If the viterbi algorithm is unable to tag an unknown word then it use the rule based tagger."
   ]
  },
  {
   "cell_type": "code",
   "execution_count": 40,
   "metadata": {},
   "outputs": [],
   "source": [
    "# A trigram tagger backed off by a rule based tagger.\n",
    "\n",
    "def trigram_tagger(word, train_set = nltk_data_train):\n",
    "    \n",
    "    patterns = [\n",
    "    (r'[aA-zZ]+(ed|ing|es)$', 'VERB'), # Any word ending with 'ing' or 'ed' is a verb\n",
    "\n",
    "    (r'.*ly$', 'ADV'),\n",
    "        \n",
    "    (r'^([0-9]|[aA-zZ])+\\-[aA-zZ]*$','ADJ'),\n",
    "    (r'.*able$', 'ADJ'), \n",
    "    (r'.*ful$', 'ADJ'),\n",
    "    (r'.*ous$', 'ADJ'),\n",
    "        \n",
    "    (r'^[aA-zZ].*[0-9]+','NOUN'),     # Alpha Numeric\n",
    "    (r'.*ness$', 'NOUN'),\n",
    "    (r'.*\\'s$', 'NOUN'),              # possessive nouns - words ending with 's\n",
    "    (r'.*s$', 'NOUN'),                # plural nouns\n",
    "    (r'.*ers$', 'NOUN'),              # eg.- kinderganteners, autobioghapgers\n",
    "    (r'.*ment$', 'NOUN'),\n",
    "    (r'.*town$', 'NOUN'),\n",
    "        \n",
    "    (r'^(0|([*|-|$].*))','X'), # Any special character combination\n",
    "    (r'.*ould$', 'X'),\n",
    "        \n",
    "    (r'(The|the|A|a|An|an|That|that|This|this|Those|those|These|these)$', 'DET'), # That/this/these/those belong to the category of Demonstrative determiners\n",
    "    (r'[0-9].?[,\\/]?[0-9]*','NUM'), # Numbers \n",
    "        \n",
    "    (r'.*', 'NOUN')\n",
    "    ]\n",
    "\n",
    "    regex_based_tagger = nltk.RegexpTagger(patterns)\n",
    "\n",
    "    # trigram backed up by the regex tagger\n",
    "    nltk_trigram_regex_tagger = nltk.TrigramTagger(train_set, backoff = regex_based_tagger)\n",
    "    return nltk_trigram_regex_tagger.tag_sents([[(word)]])"
   ]
  },
  {
   "cell_type": "code",
   "execution_count": 41,
   "metadata": {},
   "outputs": [],
   "source": [
    "def viterbi_backedup_by_trigram_tagger(words, train_bag = nltk_train_tag_words):\n",
    "    state = []\n",
    "    tag_set = list(set([pair[1] for pair in train_bag]))\n",
    "    \n",
    "    # use the trigram tagger backed up by the rule based tagger\n",
    "    # for unknown words.\n",
    "    for key, word in enumerate(words):\n",
    "        if word not in nltk_train_tag_vocal_set:\n",
    "            unknown_word_tag = trigram_tagger(word)\n",
    "            for sent in unknown_word_tag:\n",
    "                for tup in sent:\n",
    "                    state.append(tup[1])\n",
    "        else:            \n",
    "            p = [] \n",
    "            for tag in tag_set:\n",
    "                if key == 0:\n",
    "                    transition_p = nltk_tag_matrix_df.loc['.', tag]\n",
    "                else:\n",
    "                    transition_p = nltk_tag_matrix_df.loc[state[-1], tag]\n",
    "                \n",
    "            # compute emission and state probabilities\n",
    "                emission_p = word_given_tag(words[key], tag)[0]/word_given_tag(words[key], tag)[1]\n",
    "                state_probability = emission_p * transition_p    \n",
    "                p.append(state_probability)\n",
    "            \n",
    "            pmax = max(p)\n",
    "            # getting state for which probability is maximum\n",
    "            state_max = tag_set[p.index(pmax)] \n",
    "            state.append(state_max)\n",
    "    return list(zip(words, state))"
   ]
  },
  {
   "cell_type": "markdown",
   "metadata": {},
   "source": [
    "#### Evaluating tagging accuracy"
   ]
  },
  {
   "cell_type": "code",
   "execution_count": null,
   "metadata": {},
   "outputs": [],
   "source": [
    "# tagging the test sentences\n",
    "nltk_viterbi_tgram_tagged_seq = viterbi_backedup_by_trigram_tagger(nltk_data_test_tag_word_list)\n",
    "\n",
    "# accuracy\n",
    "nltk_viterbi_tgram_word_check = [i for i, j in zip(nltk_viterbi_tgram_tagged_seq, nltk_data_test_list) if i == j]\n",
    "\n",
    "nltk_viterbi_tgram_accuracy = len(nltk_viterbi_tgram_word_check)/len(nltk_viterbi_tgram_tagged_seq)\n",
    "\n",
    "print(\"The accuracy of the viterbi_backedup_by_trigram_tagger : \", nltk_viterbi_tgram_accuracy)"
   ]
  },
  {
   "cell_type": "markdown",
   "metadata": {},
   "source": [
    "### Compare the tagging accuracies of the modifications with the vanilla Viterbi algorithm"
   ]
  },
  {
   "cell_type": "markdown",
   "metadata": {},
   "source": [
    "#### Step1: Lets check the accuracy of tagging on the test_set data generated using the nltk_data_test"
   ]
  },
  {
   "cell_type": "code",
   "execution_count": null,
   "metadata": {},
   "outputs": [],
   "source": [
    "acccuracy_data = [['Vanilla Viterbi', nltk_vanilla_viterbi_accuracy*100], \n",
    "                  ['Optimized Vanilla Viterbi', nltk_optimized_viterbi_accuracy*100], \n",
    "                  ['Unigram Tagger', nltk_ugram_tagger_acc*100],\n",
    "                  ['Unigram + RegexpTagger', nltk_acc_rule_based_ugram_tagger*100],\n",
    "                  ['Bigram Tagger + Unigram_tagger', nltk_acc_bigram_tagger*100],\n",
    "                  ['Trigram Tagger + Bigram_tagger', nltk_acc_trigram_tagger*100],\n",
    "                  ['Viterbi + Trigram_tagger', nltk_viterbi_tgram_accuracy*100]]\n",
    "\n",
    "#accuracy dataframe\n",
    "nltk_acc_data_df = pd.DataFrame(acccuracy_data, columns = ['Tagging_Algorithm', 'Tagging_Accuracy'])\n",
    "\n",
    "nltk_acc_data_df.set_index('Tagging_Algorithm', drop = True, inplace = True)\n",
    "\n",
    "nltk_acc_data_df"
   ]
  },
  {
   "cell_type": "code",
   "execution_count": null,
   "metadata": {},
   "outputs": [],
   "source": [
    "#plot the dataframe values\n",
    "nltk_acc_data_df.plot.line(rot = 90, legend = False)"
   ]
  },
  {
   "cell_type": "markdown",
   "metadata": {},
   "source": [
    "#### Step 2: Lets check the accuracy of tagging for the algorithm on the sample test sentences provided\n"
   ]
  },
  {
   "cell_type": "code",
   "execution_count": null,
   "metadata": {},
   "outputs": [],
   "source": [
    "sample_test_sentences = ['Android is a mobile operating system developed by Google.',\n",
    "\"Android has been the best-selling OS worldwide on smartphones since 2011 and on tablets since 2013.\",\n",
    "\"Google and Twitter made a deal in 2015 that gave Google access to Twitter's firehose.\",\n",
    "\"Twitter is an online news and social networking service on which users post and interact with messages known as tweets.\",\n",
    "\"Before entering politics, Donald Trump was a domineering businessman and a television personality.\",\n",
    "\"The 2018 FIFA World Cup is the 21st FIFA World Cup, an international football tournament contested once every four years.\",\n",
    "\"This is the first World Cup to be held in Eastern Europe and the 11th time that it has been held in Europe.\",\n",
    "\"Show me the cheapest round trips from Dallas to Atlanta\",\n",
    "\"I would like to see flights from Denver to Philadelphia.\",\n",
    "\"Show me the price of the flights leaving Atlanta at about 3 in the afternoon and arriving in San Francisco.\",\n",
    "\"NASA invited social media users to experience the launch of ICESAT-2 Satellite.\"]"
   ]
  },
  {
   "cell_type": "code",
   "execution_count": null,
   "metadata": {},
   "outputs": [],
   "source": [
    "nltk_sample_test_tokens_sent = [word_tokenize(sent) for sent in sample_test_sentences]\n",
    "nltk_sample_test_corpus_pos_tags = nltk.pos_tag_sents(nltk_sample_test_tokens_sent, tagset = 'universal')\n",
    "nltk_sample_test_corpus_pos_tags"
   ]
  },
  {
   "cell_type": "code",
   "execution_count": null,
   "metadata": {},
   "outputs": [],
   "source": [
    "# get the list of untagged words from the sample test data provided\n",
    "nltk_sample_test_tag_words = [tup[0] for sent in nltk_sample_test_corpus_pos_tags for tup in sent]\n",
    "\n",
    "\n",
    "# get the list of tagged words\n",
    "nltk_sample_test_test_run_base = [tup for sent in nltk_sample_test_corpus_pos_tags for tup in sent]"
   ]
  },
  {
   "cell_type": "code",
   "execution_count": null,
   "metadata": {},
   "outputs": [],
   "source": [
    "nltk_sample_test_tag_words\n"
   ]
  },
  {
   "cell_type": "markdown",
   "metadata": {},
   "source": [
    "#### 1. Testing the accuracy of Vanilla Viterbi by using the sample test data"
   ]
  },
  {
   "cell_type": "code",
   "execution_count": null,
   "metadata": {},
   "outputs": [],
   "source": [
    "# tagging the test sentences\n",
    "nltk_sample_test_tag_seq = Vanilla_Viterbi(nltk_sample_test_tag_words)\n",
    "\n",
    "#Now check the accuracy of the vanilla viterbi algorithm\n",
    "nltk_sample_test_chk = [i for i, j in zip(nltk_sample_test_tag_seq, nltk_sample_test_test_run_base) if i == j]\n",
    "\n",
    "nltk_vanilla_viterbi_acc_on_sample_test_data = len(nltk_sample_test_chk)/len(nltk_sample_test_tag_seq)\n",
    "\n",
    "print(\"The accuracy of the Vanilla Viterbi Algorithm by using sample test data:\", nltk_vanilla_viterbi_acc_on_sample_test_data)"
   ]
  },
  {
   "cell_type": "markdown",
   "metadata": {},
   "source": [
    "#### 2. Testing the accuracy of Vanilla_Viterbi_for_Unknown_Words by using sample test data"
   ]
  },
  {
   "cell_type": "code",
   "execution_count": null,
   "metadata": {},
   "outputs": [],
   "source": [
    "# Now tag the test sentences\n",
    "nltk_sample_test_unknown_word_tag_seq = Vanilla_Viterbi_for_Unknown_Words(nltk_sample_test_tag_words)\n",
    "\n",
    "# get the accuracy\n",
    "nltk_sample_test_unknown_word_chk = [i for i, j in zip(nltk_sample_test_unknown_word_tag_seq, nltk_sample_test_test_run_base) if i == j]\n",
    "\n",
    "nltk_sample_test_opt_viterbi_acc = len(nltk_sample_test_unknown_word_chk)/len(nltk_sample_test_unknown_word_tag_seq)\n",
    "\n",
    "print(\"The accuracy of the Vanilla_Viterbi_for_Unknown_Words by using sample test data: \", nltk_sample_test_opt_viterbi_acc)"
   ]
  },
  {
   "cell_type": "markdown",
   "metadata": {},
   "source": [
    "#### 3. Testing the accuracy of viterbi_backedup_by_trigram_tagger by using the sample test data"
   ]
  },
  {
   "cell_type": "code",
   "execution_count": null,
   "metadata": {},
   "outputs": [],
   "source": [
    "# Now tag the test sentences\n",
    "nltk_sample_test_viterbi_trigram_tag_seq = viterbi_backedup_by_trigram_tagger(nltk_sample_test_tag_words)\n",
    "\n",
    "# get the accuracy\n",
    "nltk_sample_test_viterbi_trigram_chk = [i for i, j in zip(nltk_sample_test_viterbi_trigram_tag_seq, nltk_sample_test_test_run_base) if i == j]\n",
    "\n",
    "nltk_sample_test_viterbi_trigram_acc = len(nltk_sample_test_viterbi_trigram_chk)/len(nltk_sample_test_viterbi_trigram_tag_seq)\n",
    "\n",
    "print(\"The accuracy of the viterbi_backedup_by_trigram_tagger by using sample test data: \", nltk_sample_test_viterbi_trigram_acc)"
   ]
  },
  {
   "cell_type": "markdown",
   "metadata": {},
   "source": [
    "#### Comparing the accuracies of the 3 algorithm by using the sample test data"
   ]
  },
  {
   "cell_type": "code",
   "execution_count": null,
   "metadata": {},
   "outputs": [],
   "source": [
    "nltk_acccuracy_on_sample_test_data = [['Vanilla Viterbi', nltk_vanilla_viterbi_acc_on_sample_test_data*100], \n",
    "                  ['Optimized Vanilla Viterbi', nltk_sample_test_opt_viterbi_acc*100], \n",
    "                  ['Viterbi + Trigram_tagger', nltk_sample_test_viterbi_trigram_acc*100]]\n",
    "\n",
    "nltk_sample_test_data_acccuracy_df = pd.DataFrame(nltk_acccuracy_on_sample_test_data, columns = ['Tagging_Algorithm', 'Tagging_Accuracy'])\n",
    "\n",
    "nltk_sample_test_data_acccuracy_df.set_index('Tagging_Algorithm', drop = True, inplace = True)\n",
    "\n",
    "nltk_sample_test_data_acccuracy_df"
   ]
  },
  {
   "cell_type": "code",
   "execution_count": null,
   "metadata": {},
   "outputs": [],
   "source": [
    "nltk_sample_test_data_acccuracy_df.plot.line(rot = 90, legend = False)\n"
   ]
  },
  {
   "cell_type": "markdown",
   "metadata": {},
   "source": [
    "### List down cases which were incorrectly tagged by original POS tagger and got corrected by your modifications"
   ]
  },
  {
   "cell_type": "code",
   "execution_count": null,
   "metadata": {},
   "outputs": [],
   "source": [
    "# test sentences\n",
    "\n",
    "test_sentence_1 = 'Android is a mobile operating system developed by Google.'\n",
    "test_sentence_2 = 'Android has been the best-selling OS worldwide on smartphones since 2011 and on tablets since 2013.'\n",
    "test_sentence_3 = \"Google and Twitter made a deal in 2015 that gave Google access to Twitter's firehose.\"\n",
    "test_sentence_4 = 'Twitter is an online news and social networking service on which users post and interact with messages known as tweets.'\n",
    "test_sentence_5 = 'Before entering politics, Donald Trump was a domineering businessman and a television personality.'\n",
    "test_sentence_6 = 'The 2018 FIFA World Cup is the 21st FIFA World Cup, an international football tournament contested once every four years.'\n",
    "test_sentence_7 = 'This is the first World Cup to be held in Eastern Europe and the 11th time that it has been held in Europe.'\n",
    "test_sentence_8 = 'Show me the cheapest round trips from Dallas to Atlanta'\n",
    "test_sentence_9 = 'I would like to see flights from Denver to Philadelphia.'\n",
    "test_sentence_10 = 'Show me the price of the flights leaving Atlanta at about 3 in the afternoon and arriving in San Francisco.'\n",
    "test_sentence_11 = 'NASA invited social media users to experience the launch of ICESAT-2 Satellite.'"
   ]
  },
  {
   "cell_type": "markdown",
   "metadata": {},
   "source": [
    "### Case - 1"
   ]
  },
  {
   "cell_type": "code",
   "execution_count": null,
   "metadata": {},
   "outputs": [],
   "source": [
    "# test_sentence_1 = 'Android is a mobile operating system developed by Google.'\n",
    "\n",
    "nltk_words_test_sentence_1 = nltk.word_tokenize(test_sentence_1)\n",
    "\n",
    "# pos tags with Vanilla_Viterbi\n",
    "nltk_pos_tag_seq_with_vanilla_viterbi = Vanilla_Viterbi(nltk_words_test_sentence_1)\n",
    "print(\"\\n\\n\\nVanilla_Viterbi - Tagging - Sequence \\n\", nltk_pos_tag_seq_with_vanilla_viterbi)\n",
    "\n",
    "# pos tags with viterbi_backedup_by_trigram_tagger\n",
    "nltk_pos_tag_seq_with_viterbi_trigram = viterbi_backedup_by_trigram_tagger(nltk_words_test_sentence_1)\n",
    "print(\"\\n\\n\\n ===== \\n\\n\\nTagging sequence with viterbi_backedup_by_trigram_tagger \\n\", nltk_pos_tag_seq_with_viterbi_trigram)"
   ]
  },
  {
   "cell_type": "code",
   "execution_count": null,
   "metadata": {},
   "outputs": [],
   "source": [
    "cols = ['vanilla_viterbi_tags', 'viterbi_trigram_tags_with_corrections']\n",
    "nltk_tags_corr_df_1 = pd.DataFrame(columns = cols)\n",
    "nltk_tags_corr_df_1 = nltk_tags_corr_df_1.fillna(0)\n",
    "\n",
    "nltk_tags_corr_df_1.vanilla_viterbi_tags = [tup for tup in nltk_pos_tag_seq_with_vanilla_viterbi]\n",
    "nltk_tags_corr_df_1.viterbi_trigram_tags_with_corrections = [tup for tup in nltk_pos_tag_seq_with_viterbi_trigram]\n",
    "\n",
    "nltk_tags_corr_df_1"
   ]
  },
  {
   "cell_type": "markdown",
   "metadata": {},
   "source": [
    "### Case 2"
   ]
  },
  {
   "cell_type": "code",
   "execution_count": null,
   "metadata": {},
   "outputs": [],
   "source": [
    "# test_sentence_6 = 'The 2018 FIFA World Cup is the 21st FIFA World Cup, \n",
    "#                   an international football tournament contested once every four years.'\n",
    "\n",
    "nltk_words_test_sentence_6 = nltk.word_tokenize(test_sentence_6)\n",
    "\n",
    "# pos tags with Vanilla_Viterbi\n",
    "nltk_pos_tag_seq_with_vanilla_viterbi_6 = Vanilla_Viterbi(nltk_words_test_sentence_6)\n",
    "print(\"\\n\\n\\nVanilla_Viterbi - Tagging - Sequence \\n\", nltk_pos_tag_seq_with_vanilla_viterbi_6)\n",
    "\n",
    "# pos tags with viterbi_backedup_by_trigram_tagger\n",
    "nltk_pos_tag_seq_with_viterbi_trigram_6 = viterbi_backedup_by_trigram_tagger(nltk_words_test_sentence_6)\n",
    "print(\"\\n\\n\\n ===== \\n\\n\\nTagging sequence with viterbi_backedup_by_trigram_tagger \\n\", nltk_pos_tag_seq_with_viterbi_trigram_6)"
   ]
  },
  {
   "cell_type": "code",
   "execution_count": null,
   "metadata": {},
   "outputs": [],
   "source": [
    "nltk_tags_correction_df_6 = pd.DataFrame(columns = cols)\n",
    "nltk_tags_correction_df_6 = nltk_tags_correction_df_6.fillna(0)\n",
    "\n",
    "nltk_tags_correction_df_6.vanilla_viterbi_tags = [tup for tup in nltk_pos_tag_seq_with_vanilla_viterbi_6]\n",
    "nltk_tags_correction_df_6.viterbi_trigram_tags_with_corrections = [tup for tup in nltk_pos_tag_seq_with_viterbi_trigram_6]\n",
    "\n",
    "nltk_tags_correction_df_6"
   ]
  },
  {
   "cell_type": "markdown",
   "metadata": {},
   "source": [
    "### Case 3"
   ]
  },
  {
   "cell_type": "code",
   "execution_count": null,
   "metadata": {},
   "outputs": [],
   "source": [
    "# test_sentence_8 = 'Show me the cheapest round trips from Dallas to Atlanta'\n",
    "\n",
    "nltk_words_test_sentence_8 = nltk.word_tokenize(test_sentence_8)\n",
    "\n",
    "# pos tags with Vanilla_Viterbi\n",
    "nltk_pos_tag_seq_with_vanilla_viterbi_8 = Vanilla_Viterbi(nltk_words_test_sentence_8)\n",
    "print(\"\\n\\n\\nVanilla_Viterbi - Tagging - Sequence \\n\", nltk_pos_tag_seq_with_vanilla_viterbi_8)\n",
    "\n",
    "# pos tags with viterbi_backedup_by_trigram_tagger\n",
    "nltk_pos_tag_seq_with_viterbi_trigram_8 = viterbi_backedup_by_trigram_tagger(nltk_words_test_sentence_8)\n",
    "print(\"\\n\\n\\n ===== \\n\\n\\nTagging sequence with viterbi_backedup_by_trigram_tagger \\n\", nltk_pos_tag_seq_with_viterbi_trigram_8)"
   ]
  },
  {
   "cell_type": "code",
   "execution_count": null,
   "metadata": {},
   "outputs": [],
   "source": [
    "tags_correction_df_8 = pd.DataFrame(columns = cols)\n",
    "tags_correction_df_8 = tags_correction_df_8.fillna(0)\n",
    "\n",
    "tags_correction_df_8.vanilla_viterbi_tags = [tup for tup in nltk_pos_tag_seq_with_vanilla_viterbi_8]\n",
    "tags_correction_df_8.viterbi_trigram_tags_with_corrections = [tup for tup in nltk_pos_tag_seq_with_viterbi_trigram_8]\n",
    "\n",
    "tags_correction_df_8"
   ]
  },
  {
   "cell_type": "code",
   "execution_count": null,
   "metadata": {},
   "outputs": [],
   "source": [
    "# Default Vanilla Viterbi\n",
    "# pos tags with Vanilla_Viterbi\n",
    "nltk_sample_test_tag_seq_with_vanilla_viterbi = Vanilla_Viterbi(nltk_sample_test_tag_words)\n",
    "print(\"\\n\\n\\nVanilla_Viterbi - Tagging - Sequence \\n\", nltk_sample_test_tag_seq_with_vanilla_viterbi)\n",
    "\n",
    "# From Method 1 - pos tags with Vanilla_Viterbi_for_Unknown_Words\n",
    "nltk_sample_test_tag_seq_unknown_words = Vanilla_Viterbi_for_Unknown_Words(nltk_sample_test_tag_words)\n",
    "print(\"\\n\\n\\n====\\n\\n\\nThe tagging sequence with viterbi using only transition probability for unknown words: \", \n",
    "      nltk_sample_test_tag_seq_unknown_words)\n",
    "\n",
    "# From Method 2 - pos tags with viterbi_backedup_by_trigram_tagger\n",
    "sample_test_tagged_sequence_with_viterbi_trigram = viterbi_backedup_by_trigram_tagger(nltk_sample_test_tag_words)\n",
    "print(\"\\n\\n\\n========\\n\\n\\nTagging sequence with viterbi_backedup_by_trigram_tagger -\\n\\n\", sample_test_tagged_sequence_with_viterbi_trigram)"
   ]
  },
  {
   "cell_type": "code",
   "execution_count": null,
   "metadata": {},
   "outputs": [],
   "source": [
    "# A dataframe showing - \n",
    "# 1. the actual tags using nltk.pos_tag_sent\n",
    "# 2. words as tagged by vanilla viterbi\n",
    "# 3. words as tagged by Vanilla_Viterbi_for_Unknown_Words - METHOD - 1\n",
    "# 4. words as tagged by viterbi_backedup_by_trigram_tagger - METHOD - 2\n",
    "\n",
    "cols1 = ['actual_tags', 'as_tagged_by_vanilla_viterbi', 'as_tagged_by_Vanilla_Viterbi_for_Unknown_Words',\n",
    "            'as_tagged_by_Vanilla_Viterbi_backed_by_trigram_tagger']\n",
    "\n",
    "nltk_tags_comparison_df = pd.DataFrame(columns = cols1)\n",
    "nltk_tags_comparison_df = nltk_tags_comparison_df.fillna(0)\n",
    "\n",
    "# Actual tags\n",
    "nltk_tags_comparison_df.actual_tags = [tup for tup in nltk_sample_test_test_run_base]\n",
    "\n",
    "# tags by vanilla viterbi\n",
    "nltk_tags_comparison_df.as_tagged_by_vanilla_viterbi = [tup for tup in nltk_sample_test_tag_seq_with_vanilla_viterbi]\n",
    "\n",
    "# tags by Vanilla_Viterbi_for_Unknown_Words - METHOD - 1\n",
    "nltk_tags_comparison_df.as_tagged_by_Vanilla_Viterbi_for_Unknown_Words = [tup for tup in nltk_sample_test_tag_seq_unknown_words]\n",
    "\n",
    "# tags by viterbi_backedup_by_trigram_tagger - METHOD - 2\n",
    "nltk_tags_comparison_df.as_tagged_by_Vanilla_Viterbi_backed_by_trigram_tagger = [tup for tup in \n",
    "                                                                            sample_test_tagged_sequence_with_viterbi_trigram]\n",
    "\n",
    "nltk_tags_comparison_df[nltk_tags_comparison_df.as_tagged_by_vanilla_viterbi != \n",
    "                   nltk_tags_comparison_df.as_tagged_by_Vanilla_Viterbi_backed_by_trigram_tagger]"
   ]
  },
  {
   "cell_type": "markdown",
   "metadata": {},
   "source": [
    "### Conclusion"
   ]
  },
  {
   "cell_type": "markdown",
   "metadata": {},
   "source": [
    "From this we could see that most of the words are incorrectly tagged by vanilla viterbi algorithm and which corrected by the viterbi algorithm backed up by the trigram tagger.\n"
   ]
  },
  {
   "cell_type": "code",
   "execution_count": null,
   "metadata": {},
   "outputs": [],
   "source": []
  },
  {
   "cell_type": "code",
   "execution_count": null,
   "metadata": {},
   "outputs": [],
   "source": []
  },
  {
   "cell_type": "code",
   "execution_count": null,
   "metadata": {},
   "outputs": [],
   "source": []
  }
 ],
 "metadata": {
  "kernelspec": {
   "display_name": "Python 3",
   "language": "python",
   "name": "python3"
  },
  "language_info": {
   "codemirror_mode": {
    "name": "ipython",
    "version": 3
   },
   "file_extension": ".py",
   "mimetype": "text/x-python",
   "name": "python",
   "nbconvert_exporter": "python",
   "pygments_lexer": "ipython3",
   "version": "3.7.6"
  }
 },
 "nbformat": 4,
 "nbformat_minor": 4
}
